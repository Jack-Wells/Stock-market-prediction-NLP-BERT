{
 "cells": [
  {
   "cell_type": "code",
   "execution_count": 1,
   "metadata": {},
   "outputs": [],
   "source": [
    "import requests\n",
    "from   bs4 import BeautifulSoup\n",
    "import re\n"
   ]
  },
  {
   "cell_type": "code",
   "execution_count": 2,
   "metadata": {},
   "outputs": [
    {
     "name": "stdout",
     "output_type": "stream",
     "text": [
      "['3i', 'admiral-group', 'anglo-american-plc', 'antofagasta', 'ashtead-group', 'associated-british-foods', 'astrazeneca', 'auto-trader-group', 'aveva', 'aviva', 'bae-systems', 'barclays', 'barratt-developments', 'berkeley-group-holdings', 'bhp', 'bp', 'british-american-tobacco', 'british-land', 'bt-group', 'bunzl', 'burberry', 'carnival-corporation-&-plc', 'centrica', 'coca-cola-hbc', 'compass-group', 'crh-plc', 'croda-international', 'dcc-plc', 'diageo', 'easyjet', 'evraz', 'experian', 'ferguson-plc', 'flutter-entertainment', 'glaxosmithkline', 'glencore', 'halma', 'hargreaves-lansdown', 'hsbc', 'hikma-pharmaceuticals', 'imperial-brands', 'informa', 'intercontinental-hotels-group', 'international-airlines-group', 'intertek', 'itv-plc', 'jd-sports', 'johnson-matthey', 'just-eat', 'kingfisher-plc', 'land-securities', 'legal-&-general', 'lloyds-banking-group', 'london-stock-exchange-group', 'm&g', 'meggitt', 'melrose-industries', 'mondi', 'morrisons', 'national-grid-plc', 'next-plc', 'nmc-health', 'ocado', 'pearson-plc', 'persimmon-plc', 'phoenix-group', 'polymetal-international', 'prudential-plc', 'reckitt-benckiser', 'relx', 'rentokil-initial', 'rio-tinto-group', 'rightmove', 'rolls-royce-holdings', 'royal-bank-of-scotland-group', 'royal-dutch-shell', 'rsa-insurance-group', 'sage-group', \"sainsbury's\", 'schroders', 'scottish-mortgage-investment-trust', 'segro', 'severn-trent', 'smith-&-nephew', 'ds-smith', 'smiths-group', 'smurfit-kappa', 'spirax-sarco-engineering', 'sse-plc', 'standard-chartered', 'standard-life-aberdeen', \"st.-james's-place-plc\", 'taylor-wimpey', 'tesco', 'tui-group', 'unilever', 'united-utilities', 'vodafone-group', 'whitbread', 'wpp-plc'] ['III.L', 'ADM.L', 'AAL.L', 'ANTO.L', 'AHT.L', 'ABF.L', 'AZN.L', 'AUTO.L', 'AVV.L', 'AV.L', 'BA.L', 'BARC.L', 'BDEV.L', 'BKG.L', 'BHP.L', 'BP.L', 'BATS.L', 'BLND.L', 'BT-A.L', 'BNZL.L', 'BRBY.L', 'CCL.L', 'CNA.L', 'CCH.L', 'CPG.L', 'CRH.L', 'CRDA.L', 'DCC.L', 'DGE.L', 'EZJ.L', 'EVR.L', 'EXPN.L', 'FERG.L', 'FLTR.L', 'GSK.L', 'GLEN.L', 'HLMA.L', 'HL.L', 'HSBA.L', 'HIK.L', 'IMB.L', 'INF.L', 'IHG.L', 'IAG.L', 'ITRK.L', 'ITV.L', 'JD.L', 'JMAT.L', 'JE.L', 'KGF.L', 'LAND.L', 'LGEN.L', 'LLOY.L', 'LSE.L', 'MNG.L', 'MGGT.L', 'MRO.L', 'MNDI.L', 'MRW.L', 'NG.L', 'NXT.L', 'NMC.L', 'OCDO.L', 'PSON.L', 'PSN.L', 'PHNX.L', 'POLY.L', 'PRU.L', 'RB.L', 'REL.L', 'RTO.L', 'RIO.L', 'RMV.L', 'RR.L', 'RBS.L', 'RDSA.L', 'RSA.L', 'SGE.L', 'SBRY.L', 'SDR.L', 'SMT.L', 'SGRO.L', 'SVT.L', 'SN.L', 'SMDS.L', 'SMIN.L', 'SKG.L', 'SPX.L', 'SSE.L', 'STAN.L', 'SLA.L', 'STJ.L', 'TW.L', 'TSCO.L', 'TUI.L', 'ULVR.L', 'UU.L', 'VOD.L', 'WTB.L', 'WPP.L']\n"
     ]
    }
   ],
   "source": [
    "file = open('stocks_name.txt','r')\n",
    "\n",
    "Name = []\n",
    "Codes = []\n",
    "Type = []\n",
    "\n",
    "for line in file:\n",
    "    line = re.sub('\\n', '', line)\n",
    "    line = line.split('\\t')\n",
    "    Name.append(re.sub(' ', '-',line[0].lower()))\n",
    "    Type.append(line[2])\n",
    "    if line[1][2:4] == '.A':\n",
    "        Codes.append('BT-A.L')\n",
    "    elif line[1][2] == '.':\n",
    "        Codes.append(line[1] + 'L')\n",
    "    else:\n",
    "        Codes.append(line[1] + '.L')\n",
    "\n",
    "websites = []\n",
    "for code in Codes:\n",
    "    web = 'https://uk.finance.yahoo.com/quote/' + code + '/news?p=' + code\n",
    "    websites.append(web)\n",
    "print(Name,Codes)\n",
    "#'3i', 'admiral-group', 'anglo-american', 'antofagasta', 'ashtead-group','assoc.br.foods', 'astrazeneca', 'auto-trader-group-plc', 'aveva-group', 'aviva', 'bae-systems', 'barclays', 'barratt-developments', 'berkeley-group-holdings-plc', 'bhp-billiton', 'bp', 'british-american-tobacco', 'british-land','bt-group', 'bunzl', 'burberry', 'carnival-corporation', 'centrica', 'cocacola-hb', 'compass-group', 'crh', 'croda', 'dcc-plc-exch', 'diageo', 'easyjet', 'evraz', 'experian-ord-usd0', 'wolseley', 'paddy-power', 'glaxosmithkline', 'glencore', 'halma', 'hargreaves', 'hsbc-holdings', 'hikma-pharmaceuticals', 'imperial-tobacco', 'informa', 'intercontinental-hotels-group', 'intl.-cons.-air-grp', 'intertek-testing-services', 'itv', 'jd-sports-fashion', 'johnson-matthey', 'takeaway-com-holding-bv', 'kingfisher', 'land-securities', 'legal---general', 'lloyds-banking-grp', 'london-stock-exchange', 'm-and-g-plc', 'meggitt', 'melrose', 'mond', 'william-morrison', 'national-grid', 'next', 'nmc-health', 'ocado-group', 'pearson', 'persimmon', 'phoenix-group-holdings', 'polymetal', 'prudential', 'reckitt-benckiser', 'reed-elsevier', 'rentokil-initial', 'rio-tinto', 'rightmove', 'rolls-royce', 'royal-bank-of-scotland', 'royal-dutch-shell-a-shr', '/royal---sun-alliance', 'sage-group', 'sainsbury', 'schroders', 'scottish-mortgage-inv-trust', 'segro', 'severn-trent', 'smith-and-nephew', 'ds-smith', 'smiths-group', 'smurfit-kappa-group', 'spirax', 'scottish---southern-energy', 'standard-chartered', 'standard-life', 'st-james', 'taylor-wimpey', 'tesco', 'tui-n', 'unilever', 'united-utilities', 'vodafone', 'whitbread', 'wpp'"
   ]
  },
  {
   "cell_type": "code",
   "execution_count": 86,
   "metadata": {
    "scrolled": true
   },
   "outputs": [
    {
     "name": "stdout",
     "output_type": "stream",
     "text": [
      "1\n"
     ]
    },
    {
     "ename": "IndexError",
     "evalue": "list index out of range",
     "output_type": "error",
     "traceback": [
      "\u001b[1;31m---------------------------------------------------------------------------\u001b[0m",
      "\u001b[1;31mIndexError\u001b[0m                                Traceback (most recent call last)",
      "\u001b[1;32m<ipython-input-86-0dab28b53725>\u001b[0m in \u001b[0;36m<module>\u001b[1;34m\u001b[0m\n\u001b[0;32m     26\u001b[0m \u001b[1;33m\u001b[0m\u001b[0m\n\u001b[0;32m     27\u001b[0m         \u001b[0mkapt\u001b[0m \u001b[1;33m=\u001b[0m \u001b[0msoup\u001b[0m\u001b[1;33m.\u001b[0m\u001b[0mfind_all\u001b[0m\u001b[1;33m(\u001b[0m\u001b[1;34m'a'\u001b[0m\u001b[1;33m,\u001b[0m\u001b[1;33m{\u001b[0m\u001b[1;34m'class'\u001b[0m\u001b[1;33m:\u001b[0m\u001b[1;34m\"title\"\u001b[0m\u001b[1;33m}\u001b[0m\u001b[1;33m)\u001b[0m\u001b[1;33m\u001b[0m\u001b[1;33m\u001b[0m\u001b[0m\n\u001b[1;32m---> 28\u001b[1;33m         \u001b[0mtitle\u001b[0m\u001b[1;33m.\u001b[0m\u001b[0mappend\u001b[0m\u001b[1;33m(\u001b[0m\u001b[0mkapt\u001b[0m\u001b[1;33m[\u001b[0m\u001b[1;36m6\u001b[0m\u001b[1;33m+\u001b[0m\u001b[0mi\u001b[0m\u001b[1;33m]\u001b[0m\u001b[1;33m.\u001b[0m\u001b[0mtext\u001b[0m\u001b[1;33m)\u001b[0m\u001b[1;33m\u001b[0m\u001b[1;33m\u001b[0m\u001b[0m\n\u001b[0m\u001b[0;32m     29\u001b[0m         \u001b[0mprint\u001b[0m\u001b[1;33m(\u001b[0m\u001b[0mkapt\u001b[0m\u001b[1;33m[\u001b[0m\u001b[1;36m6\u001b[0m\u001b[1;33m+\u001b[0m\u001b[0mi\u001b[0m\u001b[1;33m]\u001b[0m\u001b[1;33m.\u001b[0m\u001b[0mtext\u001b[0m\u001b[1;33m)\u001b[0m\u001b[1;33m\u001b[0m\u001b[1;33m\u001b[0m\u001b[0m\n\u001b[0;32m     30\u001b[0m         \u001b[0mkapd\u001b[0m \u001b[1;33m=\u001b[0m \u001b[0msoup\u001b[0m\u001b[1;33m.\u001b[0m\u001b[0mfind_all\u001b[0m\u001b[1;33m(\u001b[0m\u001b[1;34m'span'\u001b[0m\u001b[1;33m,\u001b[0m\u001b[1;33m{\u001b[0m\u001b[1;34m'class'\u001b[0m\u001b[1;33m:\u001b[0m\u001b[1;34m\"date\"\u001b[0m\u001b[1;33m}\u001b[0m\u001b[1;33m)\u001b[0m\u001b[1;33m\u001b[0m\u001b[1;33m\u001b[0m\u001b[0m\n",
      "\u001b[1;31mIndexError\u001b[0m: list index out of range"
     ]
    }
   ],
   "source": [
    "#print(Name)\n",
    "names = ['royal---sun-alliance']#, 'sage-group', 'sainsbury', 'schroders', 'scottish-mortgage-inv-trust', 'segro', 'severn-trent', 'smith-and-nephew', 'ds-smith', 'smiths-group', 'smurfit-kappa-group', 'spirax', 'scottish---southern-energy', 'standard-chartered', 'standard-life', 'st-james', 'taylor-wimpey', 'tesco', 'tui-n', 'unilever', 'united-utilities', 'vodafone', 'whitbread', 'wpp']\n",
    "print(len(names))\n",
    "#['barclays']#, 'barratt-developments', 'berkeley-group-holdings-plc', 'bhp-billiton', 'bp', 'british-american-tobacco', 'british-land','bt-group', 'bunzl', 'burberry', 'carnival-corporation', 'centrica', 'cocacola-hb', 'compass-group', 'crh', 'croda', 'dcc-plc-exch', 'diageo', 'easyjet', 'evraz', 'experian-ord-usd0', 'wolseley', 'paddy-power', 'glaxosmithkline', 'glencore', 'halma', 'hargreaves', 'hsbc-holdings', 'hikma-pharmaceuticals', 'imperial-tobacco', 'informa', 'intercontinental-hotels-group', 'intl.-cons.-air-grp', 'intertek-testing-services', 'itv', 'jd-sports-fashion', 'johnson-matthey', 'takeaway-com-holding-bv', 'kingfisher', 'land-securities', 'legal---general', 'lloyds-banking-grp', 'london-stock-exchange', 'm-and-g-plc', 'meggitt', 'melrose', 'mond', 'william-morrison', 'national-grid', 'next', 'nmc-health', 'ocado-group', 'pearson', 'persimmon', 'phoenix-group-holdings', 'polymetal', 'prudential', 'reckitt-benckiser', 'reed-elsevier', 'rentokil-initial', 'rio-tinto', 'rightmove', 'rolls-royce', 'royal-bank-of-scotland', 'royal-dutch-shell-a-shr', \n",
    "#'/royal---sun-alliance', 'sage-group', 'sainsbury', 'schroders', 'scottish-mortgage-inv-trust', 'segro', 'severn-trent', 'smith-and-nephew', 'ds-smith', 'smiths-group', 'smurfit-kappa-group', 'spirax', 'scottish---southern-energy', 'standard-chartered', 'standard-life', 'st-james', 'taylor-wimpey', 'tesco', 'tui-n', 'unilever', 'united-utilities', 'vodafone', 'whitbread', 'wpp']\n",
    "#['barclays']#, 'barratt-developments', 'berkeley-group-holdings-plc', 'bhp-billiton', 'bp', 'british-american-tobacco', 'british-land','bt-group', 'bunzl', 'burberry', 'carnival-corporation', 'centrica', 'cocacola-hb', 'compass-group', 'crh', 'croda', 'dcc-plc-exch', 'diageo', 'easyjet', 'evraz', 'experian-ord-usd0', 'wolseley', 'paddy-power', 'glaxosmithkline', 'glencore', 'halma', 'hargreaves', 'hsbc-holdings', 'hikma-pharmaceuticals', 'imperial-tobacco', 'informa', 'intercontinental-hotels-group', 'intl.-cons.-air-grp', 'intertek-testing-services', 'itv', 'jd-sports-fashion', 'johnson-matthey', 'takeaway-com-holding-bv', 'kingfisher', 'land-securities', 'legal---general', 'lloyds-banking-grp', 'london-stock-exchange', 'm-and-g-plc', 'meggitt', 'melrose', 'mond', 'william-morrison', 'national-grid', 'next', 'nmc-health', 'ocado-group', 'pearson', 'persimmon', 'phoenix-group-holdings', 'polymetal', 'prudential', 'reckitt-benckiser', 'reed-elsevier', 'rentokil-initial', 'rio-tinto', 'rightmove', 'rolls-royce', 'royal-bank-of-scotland', 'royal-dutch-shell-a-shr', '/royal---sun-alliance', 'sage-group', 'sainsbury', 'schroders', 'scottish-mortgage-inv-trust', 'segro', 'severn-trent', 'smith-and-nephew', 'ds-smith', 'smiths-group', 'smurfit-kappa-group', 'spirax', 'scottish---southern-energy', 'standard-chartered', 'standard-life', 'st-james', 'taylor-wimpey', 'tesco', 'tui-n', 'unilever', 'united-utilities', 'vodafone', 'whitbread', 'wpp']\n",
    "#code = codes[-1]\n",
    "#for code in codes\n",
    "\n",
    "file = open('text-beond.csv', 'a', encoding='UTF-8')\n",
    "\n",
    "Titles = []\n",
    "Dates = []\n",
    "company = []\n",
    "\n",
    "for code in names:\n",
    "\n",
    "    title = []\n",
    "    date = []\n",
    "\n",
    "    r = requests.get('https://uk.investing.com/equities/'+ code + '-news', headers={'User-Agent': 'Mozilla/5.0'})\n",
    "    soup = BeautifulSoup(r.text, 'lxml')   \n",
    "    kap = soup.find_all('a',{'class':\"title\"})\n",
    "\n",
    "    for i in range(10):\n",
    "\n",
    "        kapt = soup.find_all('a',{'class':\"title\"})\n",
    "        title.append(kapt[6+i].text)\n",
    "        print(kapt[6+i].text)\n",
    "        kapd = soup.find_all('span',{'class':\"date\"})\n",
    "        date.append(kapd[0+i].text)\n",
    "        print(kapd[0+i].text)\n",
    "    \n",
    "    sap = ''\n",
    "\n",
    "    j=34\n",
    "    while kap != sap:\n",
    "\n",
    "        j+=1\n",
    "\n",
    "        r = requests.get('https://uk.investing.com/equities/'+ code + '-news/'+ str(j), headers={'User-Agent': 'Mozilla/5.0'})\n",
    "        soup = BeautifulSoup(r.text, 'lxml')   \n",
    "\n",
    "        for i in range(10):\n",
    "            try:\n",
    "                kapt = soup.find_all('a',{'class':\"title\"})\n",
    "                title.append(kapt[6+i].text)\n",
    "                print(kapt[6+i].text)\n",
    "                kapd = soup.find_all('span',{'class':\"date\"})\n",
    "                date.append(kapd[0+i].text)\n",
    "                print(kapd[0+i].text)\n",
    "            except:\n",
    "                print('Slight issue')\n",
    "        sap = soup.find_all('a',{'class':\"title\"})\n",
    "\n",
    "    #This repeats the last 10 to break while loop but this data needs to be removed\n",
    "    date = date[:-10]\n",
    "    title = title[:-10]\n",
    "\n",
    "    comp = []\n",
    "    for i in range(len(date)):\n",
    "        comp.append([title[i],date[i]])\n",
    "    file.write(str(comp))\n",
    "    file.write('\\n')\n",
    "    print(code)\n",
    "    Titles.append(title)\n",
    "    Dates.append(date)\n",
    "    company.append(comp)\n"
   ]
  },
  {
   "cell_type": "code",
   "execution_count": 83,
   "metadata": {},
   "outputs": [
    {
     "name": "stdout",
     "output_type": "stream",
     "text": [
      "140\n"
     ]
    },
    {
     "data": {
      "text/plain": [
       "12739"
      ]
     },
     "execution_count": 83,
     "metadata": {},
     "output_type": "execute_result"
    }
   ],
   "source": [
    "print(len(date))\n",
    "file = open('text.csv', 'a', encoding='UTF-8')\n",
    "\n",
    "c=[]\n",
    "for i in range(len(title)-10):\n",
    "    c.append([title[i+10],date[i+10]])\n",
    "file.write(str(c))\n"
   ]
  },
  {
   "cell_type": "code",
   "execution_count": 114,
   "metadata": {},
   "outputs": [
    {
     "name": "stdout",
     "output_type": "stream",
     "text": [
      "100\n"
     ]
    }
   ],
   "source": [
    "a = ['3i', 'admiral-group', 'anglo-american', 'antofagasta', 'ashtead-group','assoc.br.foods', 'astrazeneca', 'auto-trader-group-plc', 'aveva-group', 'aviva', 'bae-systems', 'barclays', 'barratt-developments', 'berkeley-group-holdings-plc', 'bhp-billiton', 'bp', 'british-american-tobacco', 'british-land','bt-group', 'bunzl', 'burberry', 'carnival-corporation', 'centrica', 'cocacola-hb', 'compass-group', 'crh', 'croda', 'dcc-plc-exch', 'diageo', 'easyjet', 'evraz', 'experian-ord-usd0', 'wolseley', 'paddy-power', 'glaxosmithkline', 'glencore', 'halma', 'hargreaves', 'hsbc-holdings', 'hikma-pharmaceuticals', 'imperial-tobacco', 'informa', 'intercontinental-hotels-group', 'intl.-cons.-air-grp', 'intertek-testing-services', 'itv', 'jd-sports-fashion', 'johnson-matthey', 'takeaway-com-holding-bv', 'kingfisher', 'land-securities', 'legal---general', 'lloyds-banking-grp', 'london-stock-exchange', 'm-and-g-plc', 'meggitt', 'melrose', 'mond', 'william-morrison', 'national-grid', 'next', 'nmc-health', 'ocado-group', 'pearson', 'persimmon', 'phoenix-group-holdings', 'polymetal', 'prudential', 'reckitt-benckiser', 'reed-elsevier', 'rentokil-initial', 'rio-tinto', 'rightmove', 'rolls-royce', 'royal-bank-of-scotland', 'royal-dutch-shell-a-shr', '/royal---sun-alliance', 'sage-group', 'sainsbury', 'schroders', 'scottish-mortgage-inv-trust', 'segro', 'severn-trent', 'smith-and-nephew', 'ds-smith', 'smiths-group', 'smurfit-kappa-group', 'spirax', 'scottish---southern-energy', 'standard-chartered', 'standard-life', 'st-james', 'taylor-wimpey', 'tesco', 'tui-n', 'unilever', 'united-utilities', 'vodafone', 'whitbread', 'wpp']\n",
    "print(len(a))"
   ]
  },
  {
   "cell_type": "code",
   "execution_count": null,
   "metadata": {},
   "outputs": [],
   "source": []
  }
 ],
 "metadata": {
  "kernelspec": {
   "display_name": "Python 3",
   "language": "python",
   "name": "python3"
  },
  "language_info": {
   "codemirror_mode": {
    "name": "ipython",
    "version": 3
   },
   "file_extension": ".py",
   "mimetype": "text/x-python",
   "name": "python",
   "nbconvert_exporter": "python",
   "pygments_lexer": "ipython3",
   "version": "3.7.6"
  }
 },
 "nbformat": 4,
 "nbformat_minor": 4
}
