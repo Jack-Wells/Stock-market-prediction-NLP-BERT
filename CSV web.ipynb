{
 "cells": [
  {
   "cell_type": "code",
   "execution_count": 1,
   "metadata": {},
   "outputs": [],
   "source": [
    "from pandas_datareader import data\n",
    "import matplotlib.pyplot as plt\n",
    "import pandas as pd\n",
    "import re"
   ]
  },
  {
   "cell_type": "markdown",
   "metadata": {},
   "source": [
    "Builds csv files containing the data from the last 5 years for every stock "
   ]
  },
  {
   "cell_type": "code",
   "execution_count": 2,
   "metadata": {},
   "outputs": [],
   "source": [
    "file = open('stocks_name.txt','r')\n",
    "\n",
    "Name = []\n",
    "Codes = []\n",
    "Type = []\n",
    "\n",
    "for line in file:\n",
    "    line = re.sub('\\n', '', line)\n",
    "    line = line.split('\\t')\n",
    "    Name.append(line[0])\n",
    "    Type.append(line[2])\n",
    "    if line[1][2:4] == '.A':\n",
    "        Codes.append('BT-A.L')\n",
    "    elif line[1][2] == '.':\n",
    "        Codes.append(line[1] + 'L')\n",
    "    else:\n",
    "        Codes.append(line[1] + '.L')\n"
   ]
  },
  {
   "cell_type": "code",
   "execution_count": 3,
   "metadata": {
    "scrolled": true
   },
   "outputs": [],
   "source": [
    "c=0\n",
    "for code in Codes:\n",
    "\n",
    "    # We would like all available data from 01/01/2000 until 12/31/2016.\n",
    "    start_date = '2015-01-01'\n",
    "    end_date = '2020-01-02'\n",
    "        \n",
    "    # User pandas_reader.data.DataReader to load the desired data. As simple as that.\n",
    "    df = data.DataReader(code, 'yahoo', start_date, end_date)\n",
    "    file = 'csv/' + code + '.csv'\n",
    "    df.to_csv(file)"
   ]
  }
 ],
 "metadata": {
  "kernelspec": {
   "display_name": "Python 3",
   "language": "python",
   "name": "python3"
  },
  "language_info": {
   "codemirror_mode": {
    "name": "ipython",
    "version": 3
   },
   "file_extension": ".py",
   "mimetype": "text/x-python",
   "name": "python",
   "nbconvert_exporter": "python",
   "pygments_lexer": "ipython3",
   "version": "3.7.6"
  }
 },
 "nbformat": 4,
 "nbformat_minor": 4
}
