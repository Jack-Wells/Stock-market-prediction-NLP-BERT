{
 "cells": [
  {
   "cell_type": "markdown",
   "metadata": {},
   "source": [
    "## Task\n",
    "I want to develop the preprocessing and training for every company up to the 1000 data points. \n",
    "<br>\n",
    "In this code only the data such as the daily high, low, close, ect. is used.\n",
    "<br>\n",
    "The code makes to predictions on the data, the first being if their is an increase or decrease in the price. The second being the exact price prediction. As can be seen the LSTM models perfrom better on the exact price prediction than the classical methods. The binary classification task is better performed by the classical methods.\n",
    "\n",
    "<br>\n",
    "\n",
    "\n",
    "Scale training and testing independently"
   ]
  },
  {
   "cell_type": "code",
   "execution_count": 57,
   "metadata": {},
   "outputs": [],
   "source": [
    "import matplotlib.pyplot as plt\n",
    "import pandas as pd\n",
    "import re\n",
    "import numpy as np\n",
    "from sklearn.preprocessing import MinMaxScaler\n",
    "import datetime as dt\n",
    "\n",
    "from sklearn.metrics import mean_squared_error\n",
    "from sklearn.metrics import precision_recall_curve\n",
    "from sklearn.metrics import f1_score\n",
    "from sklearn.metrics import auc\n",
    "from sklearn.metrics import roc_curve\n",
    "from sklearn.metrics import roc_auc_score\n",
    "from sklearn.metrics import accuracy_score\n",
    "\n",
    "from sklearn.linear_model import LogisticRegression\n",
    "from sklearn.model_selection import train_test_split\n",
    "from sklearn import svm\n",
    "from xgboost import XGBClassifier\n",
    "from sklearn.utils import shuffle\n",
    "\n",
    "from keras.models import Sequential\n",
    "from keras.layers import Dense, Activation, LSTM, Dropout, BatchNormalization\n",
    "\n",
    "from sklearn.metrics import classification_report, confusion_matrix\n"
   ]
  },
  {
   "cell_type": "code",
   "execution_count": 58,
   "metadata": {},
   "outputs": [
    {
     "data": {
      "text/plain": [
       "\"\\nfile = open('stocks_name.txt','r')\\n\\nFiles = []\\n\\nfor line in file:\\n    line = re.sub('\\n', '', line)\\n    line = line.split('\\t')\\n    if line[1][2:4] == '.A':\\n        Files.append('csv/BT-A.L.csv')\\n    elif line[1][2] == '.':\\n        Files.append('csv/' + line[1] + 'L.csv')\\n    else:\\n        Files.append('csv/' + line[1] + '.L.csv')\\n\""
      ]
     },
     "execution_count": 58,
     "metadata": {},
     "output_type": "execute_result"
    }
   ],
   "source": [
    "\"\"\"\n",
    "file = open('stocks_name.txt','r')\n",
    "\n",
    "Files = []\n",
    "\n",
    "for line in file:\n",
    "    line = re.sub('\\n', '', line)\n",
    "    line = line.split('\\t')\n",
    "    if line[1][2:4] == '.A':\n",
    "        Files.append('csv/BT-A.L.csv')\n",
    "    elif line[1][2] == '.':\n",
    "        Files.append('csv/' + line[1] + 'L.csv')\n",
    "    else:\n",
    "        Files.append('csv/' + line[1] + '.L.csv')\n",
    "\"\"\""
   ]
  },
  {
   "cell_type": "markdown",
   "metadata": {
    "scrolled": true
   },
   "source": [
    "A look at the data and the scaling."
   ]
  },
  {
   "cell_type": "code",
   "execution_count": 59,
   "metadata": {},
   "outputs": [
    {
     "data": {
      "text/html": [
       "<div>\n",
       "<style scoped>\n",
       "    .dataframe tbody tr th:only-of-type {\n",
       "        vertical-align: middle;\n",
       "    }\n",
       "\n",
       "    .dataframe tbody tr th {\n",
       "        vertical-align: top;\n",
       "    }\n",
       "\n",
       "    .dataframe thead th {\n",
       "        text-align: right;\n",
       "    }\n",
       "</style>\n",
       "<table border=\"1\" class=\"dataframe\">\n",
       "  <thead>\n",
       "    <tr style=\"text-align: right;\">\n",
       "      <th></th>\n",
       "      <th>Open</th>\n",
       "      <th>High</th>\n",
       "      <th>Low</th>\n",
       "      <th>Close</th>\n",
       "      <th>Adj Close</th>\n",
       "      <th>Volume</th>\n",
       "      <th>pred</th>\n",
       "    </tr>\n",
       "    <tr>\n",
       "      <th>Date</th>\n",
       "      <th></th>\n",
       "      <th></th>\n",
       "      <th></th>\n",
       "      <th></th>\n",
       "      <th></th>\n",
       "      <th></th>\n",
       "      <th></th>\n",
       "    </tr>\n",
       "  </thead>\n",
       "  <tbody>\n",
       "    <tr>\n",
       "      <th>2014-01-02</th>\n",
       "      <td>340.299988</td>\n",
       "      <td>342.303009</td>\n",
       "      <td>339.299988</td>\n",
       "      <td>340.100006</td>\n",
       "      <td>296.714508</td>\n",
       "      <td>5388659</td>\n",
       "      <td>343.299988</td>\n",
       "    </tr>\n",
       "    <tr>\n",
       "      <th>2014-01-03</th>\n",
       "      <td>340.200012</td>\n",
       "      <td>346.600006</td>\n",
       "      <td>339.700012</td>\n",
       "      <td>343.299988</td>\n",
       "      <td>299.506317</td>\n",
       "      <td>6959765</td>\n",
       "      <td>344.299988</td>\n",
       "    </tr>\n",
       "    <tr>\n",
       "      <th>2014-01-06</th>\n",
       "      <td>343.100006</td>\n",
       "      <td>346.700012</td>\n",
       "      <td>340.000000</td>\n",
       "      <td>344.299988</td>\n",
       "      <td>300.378754</td>\n",
       "      <td>6390175</td>\n",
       "      <td>350.399994</td>\n",
       "    </tr>\n",
       "    <tr>\n",
       "      <th>2014-01-07</th>\n",
       "      <td>342.500000</td>\n",
       "      <td>353.209015</td>\n",
       "      <td>341.975006</td>\n",
       "      <td>350.399994</td>\n",
       "      <td>305.700592</td>\n",
       "      <td>8424859</td>\n",
       "      <td>357.899994</td>\n",
       "    </tr>\n",
       "    <tr>\n",
       "      <th>2014-01-08</th>\n",
       "      <td>350.700012</td>\n",
       "      <td>362.011993</td>\n",
       "      <td>348.799988</td>\n",
       "      <td>357.899994</td>\n",
       "      <td>312.243835</td>\n",
       "      <td>13663852</td>\n",
       "      <td>360.200012</td>\n",
       "    </tr>\n",
       "  </tbody>\n",
       "</table>\n",
       "</div>"
      ],
      "text/plain": [
       "                  Open        High         Low       Close   Adj Close  \\\n",
       "Date                                                                     \n",
       "2014-01-02  340.299988  342.303009  339.299988  340.100006  296.714508   \n",
       "2014-01-03  340.200012  346.600006  339.700012  343.299988  299.506317   \n",
       "2014-01-06  343.100006  346.700012  340.000000  344.299988  300.378754   \n",
       "2014-01-07  342.500000  353.209015  341.975006  350.399994  305.700592   \n",
       "2014-01-08  350.700012  362.011993  348.799988  357.899994  312.243835   \n",
       "\n",
       "              Volume        pred  \n",
       "Date                              \n",
       "2014-01-02   5388659  343.299988  \n",
       "2014-01-03   6959765  344.299988  \n",
       "2014-01-06   6390175  350.399994  \n",
       "2014-01-07   8424859  357.899994  \n",
       "2014-01-08  13663852  360.200012  "
      ]
     },
     "execution_count": 59,
     "metadata": {},
     "output_type": "execute_result"
    },
    {
     "data": {
      "image/png": "[encoded data removed]",
      "text/plain": [
       "<Figure size 432x288 with 7 Axes>"
      ]
     },
     "metadata": {
      "needs_background": "light"
     },
     "output_type": "display_data"
    }
   ],
   "source": [
    "df = pd.read_csv('csv/RBS.L.csv')\n",
    "\n",
    "# Sort DataFrame by date\n",
    "df = df.sort_values('Date')\n",
    "df.set_index('Date', inplace=True)\n",
    "\n",
    "#Add a predicting column\n",
    "df['pred'] = df.Close.shift(-1)\n",
    "\n",
    "df = df.dropna()\n",
    "\n",
    "df.plot(subplots=True)\n",
    "\n",
    "df.head()"
   ]
  },
  {
   "cell_type": "code",
   "execution_count": 60,
   "metadata": {},
   "outputs": [
    {
     "data": {
      "text/html": [
       "<div>\n",
       "<style scoped>\n",
       "    .dataframe tbody tr th:only-of-type {\n",
       "        vertical-align: middle;\n",
       "    }\n",
       "\n",
       "    .dataframe tbody tr th {\n",
       "        vertical-align: top;\n",
       "    }\n",
       "\n",
       "    .dataframe thead th {\n",
       "        text-align: right;\n",
       "    }\n",
       "</style>\n",
       "<table border=\"1\" class=\"dataframe\">\n",
       "  <thead>\n",
       "    <tr style=\"text-align: right;\">\n",
       "      <th></th>\n",
       "      <th>High</th>\n",
       "      <th>Low</th>\n",
       "      <th>Open</th>\n",
       "      <th>Close</th>\n",
       "      <th>Volume</th>\n",
       "      <th>Adj Close</th>\n",
       "      <th>pred</th>\n",
       "    </tr>\n",
       "  </thead>\n",
       "  <tbody>\n",
       "    <tr>\n",
       "      <th>0</th>\n",
       "      <td>0.773944</td>\n",
       "      <td>0.756753</td>\n",
       "      <td>0.848678</td>\n",
       "      <td>0.780605</td>\n",
       "      <td>0.771328</td>\n",
       "      <td>0.007522</td>\n",
       "      <td>0.791609</td>\n",
       "    </tr>\n",
       "    <tr>\n",
       "      <th>1</th>\n",
       "      <td>0.773616</td>\n",
       "      <td>0.771332</td>\n",
       "      <td>0.849685</td>\n",
       "      <td>0.791609</td>\n",
       "      <td>0.782798</td>\n",
       "      <td>0.009715</td>\n",
       "      <td>0.795048</td>\n",
       "    </tr>\n",
       "    <tr>\n",
       "      <th>2</th>\n",
       "      <td>0.783144</td>\n",
       "      <td>0.771671</td>\n",
       "      <td>0.850441</td>\n",
       "      <td>0.795048</td>\n",
       "      <td>0.786382</td>\n",
       "      <td>0.008920</td>\n",
       "      <td>0.816025</td>\n",
       "    </tr>\n",
       "    <tr>\n",
       "      <th>3</th>\n",
       "      <td>0.781173</td>\n",
       "      <td>0.793754</td>\n",
       "      <td>0.855413</td>\n",
       "      <td>0.816025</td>\n",
       "      <td>0.808246</td>\n",
       "      <td>0.011761</td>\n",
       "      <td>0.841816</td>\n",
       "    </tr>\n",
       "    <tr>\n",
       "      <th>4</th>\n",
       "      <td>0.808116</td>\n",
       "      <td>0.823620</td>\n",
       "      <td>0.872598</td>\n",
       "      <td>0.841816</td>\n",
       "      <td>0.835127</td>\n",
       "      <td>0.019074</td>\n",
       "      <td>0.849725</td>\n",
       "    </tr>\n",
       "  </tbody>\n",
       "</table>\n",
       "</div>"
      ],
      "text/plain": [
       "       High       Low      Open     Close    Volume  Adj Close      pred\n",
       "0  0.773944  0.756753  0.848678  0.780605  0.771328   0.007522  0.791609\n",
       "1  0.773616  0.771332  0.849685  0.791609  0.782798   0.009715  0.795048\n",
       "2  0.783144  0.771671  0.850441  0.795048  0.786382   0.008920  0.816025\n",
       "3  0.781173  0.793754  0.855413  0.816025  0.808246   0.011761  0.841816\n",
       "4  0.808116  0.823620  0.872598  0.841816  0.835127   0.019074  0.849725"
      ]
     },
     "execution_count": 60,
     "metadata": {},
     "output_type": "execute_result"
    },
    {
     "data": {
      "image/png": "[encoded data removed]",
      "text/plain": [
       "<Figure size 432x288 with 7 Axes>"
      ]
     },
     "metadata": {
      "needs_background": "light"
     },
     "output_type": "display_data"
    }
   ],
   "source": [
    "#Scale the data frame\n",
    "\n",
    "values = df.values\n",
    "values = values.astype('float32')\n",
    "\n",
    "\n",
    "from sklearn.preprocessing import MinMaxScaler\n",
    "scaler = MinMaxScaler(feature_range=(0,1))\n",
    "\n",
    "scaled = scaler.fit_transform(values)\n",
    "\n",
    "scaled = pd.DataFrame(scaled)\n",
    "\n",
    "scaled.columns = [\"High\", \"Low\", \"Open\", \"Close\",'Volume','Adj Close','pred']\n",
    "\n",
    "scaled.plot(subplots=True)\n",
    "scaled.head()"
   ]
  },
  {
   "cell_type": "code",
   "execution_count": 61,
   "metadata": {},
   "outputs": [
    {
     "data": {
      "text/html": [
       "<div>\n",
       "<style scoped>\n",
       "    .dataframe tbody tr th:only-of-type {\n",
       "        vertical-align: middle;\n",
       "    }\n",
       "\n",
       "    .dataframe tbody tr th {\n",
       "        vertical-align: top;\n",
       "    }\n",
       "\n",
       "    .dataframe thead th {\n",
       "        text-align: right;\n",
       "    }\n",
       "</style>\n",
       "<table border=\"1\" class=\"dataframe\">\n",
       "  <thead>\n",
       "    <tr style=\"text-align: right;\">\n",
       "      <th></th>\n",
       "      <th>High</th>\n",
       "      <th>Low</th>\n",
       "      <th>Open</th>\n",
       "      <th>Close</th>\n",
       "      <th>Volume</th>\n",
       "      <th>Adj Close</th>\n",
       "    </tr>\n",
       "  </thead>\n",
       "  <tbody>\n",
       "    <tr>\n",
       "      <th>0</th>\n",
       "      <td>0.773944</td>\n",
       "      <td>0.756753</td>\n",
       "      <td>0.848678</td>\n",
       "      <td>0.780605</td>\n",
       "      <td>0.771328</td>\n",
       "      <td>0.007522</td>\n",
       "    </tr>\n",
       "    <tr>\n",
       "      <th>1</th>\n",
       "      <td>0.773616</td>\n",
       "      <td>0.771332</td>\n",
       "      <td>0.849685</td>\n",
       "      <td>0.791609</td>\n",
       "      <td>0.782798</td>\n",
       "      <td>0.009715</td>\n",
       "    </tr>\n",
       "    <tr>\n",
       "      <th>2</th>\n",
       "      <td>0.783144</td>\n",
       "      <td>0.771671</td>\n",
       "      <td>0.850441</td>\n",
       "      <td>0.795048</td>\n",
       "      <td>0.786382</td>\n",
       "      <td>0.008920</td>\n",
       "    </tr>\n",
       "    <tr>\n",
       "      <th>3</th>\n",
       "      <td>0.781173</td>\n",
       "      <td>0.793754</td>\n",
       "      <td>0.855413</td>\n",
       "      <td>0.816025</td>\n",
       "      <td>0.808246</td>\n",
       "      <td>0.011761</td>\n",
       "    </tr>\n",
       "    <tr>\n",
       "      <th>4</th>\n",
       "      <td>0.808116</td>\n",
       "      <td>0.823620</td>\n",
       "      <td>0.872598</td>\n",
       "      <td>0.841816</td>\n",
       "      <td>0.835127</td>\n",
       "      <td>0.019074</td>\n",
       "    </tr>\n",
       "    <tr>\n",
       "      <th>5</th>\n",
       "      <td>0.837030</td>\n",
       "      <td>0.835104</td>\n",
       "      <td>0.892740</td>\n",
       "      <td>0.849725</td>\n",
       "      <td>0.843371</td>\n",
       "      <td>0.019225</td>\n",
       "    </tr>\n",
       "    <tr>\n",
       "      <th>6</th>\n",
       "      <td>0.845901</td>\n",
       "      <td>0.825954</td>\n",
       "      <td>0.892489</td>\n",
       "      <td>0.838377</td>\n",
       "      <td>0.831543</td>\n",
       "      <td>0.014535</td>\n",
       "    </tr>\n",
       "    <tr>\n",
       "      <th>7</th>\n",
       "      <td>0.843601</td>\n",
       "      <td>0.844275</td>\n",
       "      <td>0.904071</td>\n",
       "      <td>0.876547</td>\n",
       "      <td>0.871327</td>\n",
       "      <td>0.014665</td>\n",
       "    </tr>\n",
       "    <tr>\n",
       "      <th>8</th>\n",
       "      <td>0.843601</td>\n",
       "      <td>0.853724</td>\n",
       "      <td>0.902560</td>\n",
       "      <td>0.882050</td>\n",
       "      <td>0.877062</td>\n",
       "      <td>0.012790</td>\n",
       "    </tr>\n",
       "    <tr>\n",
       "      <th>9</th>\n",
       "      <td>0.873829</td>\n",
       "      <td>0.879559</td>\n",
       "      <td>0.925976</td>\n",
       "      <td>0.900619</td>\n",
       "      <td>0.896417</td>\n",
       "      <td>0.015712</td>\n",
       "    </tr>\n",
       "  </tbody>\n",
       "</table>\n",
       "</div>"
      ],
      "text/plain": [
       "       High       Low      Open     Close    Volume  Adj Close\n",
       "0  0.773944  0.756753  0.848678  0.780605  0.771328   0.007522\n",
       "1  0.773616  0.771332  0.849685  0.791609  0.782798   0.009715\n",
       "2  0.783144  0.771671  0.850441  0.795048  0.786382   0.008920\n",
       "3  0.781173  0.793754  0.855413  0.816025  0.808246   0.011761\n",
       "4  0.808116  0.823620  0.872598  0.841816  0.835127   0.019074\n",
       "5  0.837030  0.835104  0.892740  0.849725  0.843371   0.019225\n",
       "6  0.845901  0.825954  0.892489  0.838377  0.831543   0.014535\n",
       "7  0.843601  0.844275  0.904071  0.876547  0.871327   0.014665\n",
       "8  0.843601  0.853724  0.902560  0.882050  0.877062   0.012790\n",
       "9  0.873829  0.879559  0.925976  0.900619  0.896417   0.015712"
      ]
     },
     "execution_count": 61,
     "metadata": {},
     "output_type": "execute_result"
    }
   ],
   "source": [
    "s = scaled.drop(['pred'],axis=1)\n",
    "s.head(10)"
   ]
  },
  {
   "cell_type": "code",
   "execution_count": 62,
   "metadata": {},
   "outputs": [],
   "source": [
    "# This function produces the data for the model by combining the data for 'size' number of days before and predicting 'delay'\n",
    "# number of days \n",
    "def window(data, size, delay):\n",
    "    \n",
    "    windows = []\n",
    "    binary_pred = []\n",
    "    pred = []\n",
    "\n",
    "    for i in range(len(scaled['Close'])-delay):\n",
    "        if scaled['Close'][i+delay] > scaled['Close'][i]:\n",
    "            binary_pred.append(1)\n",
    "        else:\n",
    "            binary_pred.append(0)\n",
    "\n",
    "            \n",
    "    for i in range(len(scaled['Close'])-delay):\n",
    "        pred.append(scaled['Close'][i+delay])\n",
    "            \n",
    "    for j in range(len(data)-size):\n",
    "        d = []\n",
    "        for i in range(size):\n",
    "            d.append(data[j + i])\n",
    "        windows.append(np.concatenate(d))\n",
    "    \n",
    "    move = abs(size - delay)\n",
    "\n",
    "    if size > delay:\n",
    "        pred = pred[:-move]\n",
    "        binary_pred = binary_pred[:-move]\n",
    "    elif size < delay:\n",
    "        windows = windows[:-move]\n",
    "        \n",
    "        \n",
    "    return windows, binary_pred, pred\n",
    "  \n",
    "data = s.values\n",
    "data, binary_pred, pred  = window(data,size = 40, delay=10)\n"
   ]
  },
  {
   "cell_type": "code",
   "execution_count": 63,
   "metadata": {},
   "outputs": [
    {
     "name": "stdout",
     "output_type": "stream",
     "text": [
      "1544\n",
      "log reg :  0.9191176470588235\n",
      "SVM :  0.8363970588235294\n",
      "SVR :  0.5164190517638103\n",
      "XGBoost :  0.8547794117647058\n"
     ]
    }
   ],
   "source": [
    "  \n",
    "data = s.values\n",
    "data, binary_pred, pred  = window(data,size = 30, delay=10)\n",
    "\n",
    "print(len(data))\n",
    "X_train = data[:1000]\n",
    "X_test = data[1000:]\n",
    "y_train = binary_pred[:1000]\n",
    "y_test = binary_pred[1000:]\n",
    "#= train_test_split(data, binary_pred, test_size=0.2, random_state=42)\n",
    "\n",
    "X_train, y_train = shuffle(X_train,y_train,  random_state=2)\n",
    "\n",
    "clf = LogisticRegression(random_state=0, max_iter=1000).fit(X_train, y_train)\n",
    "\n",
    "Svm = svm.SVC(C=1)\n",
    "Svm.fit(X_train, y_train)\n",
    "\n",
    "Svr = svm.SVR(kernel='rbf', degree=3, gamma='scale', coef0=0.0,\n",
    "              tol=0.001, C=1.2, epsilon=0.1, shrinking=False, cache_size=100, verbose=False, max_iter=-1)\n",
    "Svr.fit(X_train, y_train)\n",
    "\n",
    "mod = XGBClassifier()\n",
    "mod.fit(np.array(X_train), np.array(y_train))\n",
    "\n",
    "print('log reg : ', clf.score(X_test, y_test))\n",
    "print('SVM : ', Svm.score(X_test, y_test))\n",
    "print('SVR : ', Svr.score(X_test, y_test))\n",
    "print('XGBoost : ', mod.score(np.array(X_test), np.array(y_test)))"
   ]
  },
  {
   "cell_type": "code",
   "execution_count": 64,
   "metadata": {},
   "outputs": [
    {
     "name": "stdout",
     "output_type": "stream",
     "text": [
      "1544\n",
      "0.0009761473047115908\n"
     ]
    },
    {
     "data": {
      "image/png": "[encoded data removed]",
      "text/plain": [
       "<Figure size 432x288 with 1 Axes>"
      ]
     },
     "metadata": {
      "needs_background": "light"
     },
     "output_type": "display_data"
    }
   ],
   "source": [
    "X_train = data[:1000]\n",
    "X_test = data[1000:]\n",
    "y_train = pred[:1000]\n",
    "y_test = pred[1000:]\n",
    "\n",
    "X_train, y_train = shuffle(X_train,y_train,  random_state=2)\n",
    "\n",
    "Svr = svm.SVR()\n",
    "print(len(pred))\n",
    "Svr.fit(X_train, y_train)\n",
    "\n",
    "Pred = Svr.predict(X_test)\n",
    "print(mean_squared_error(y_test, Pred))\n",
    "\n",
    "plt.plot(range(len(Pred)),Pred, color = 'red')\n",
    "plt.plot(range(len(Pred)),y_test,color='blue')\n",
    "plt.xlabel('Days')\n",
    "plt.ylabel('Value')\n",
    "plt.legend('PA')\n",
    "plt.show()"
   ]
  },
  {
   "cell_type": "code",
   "execution_count": 69,
   "metadata": {},
   "outputs": [
    {
     "name": "stdout",
     "output_type": "stream",
     "text": [
      "(1000, 180)\n",
      "Model: \"sequential_13\"\n",
      "_________________________________________________________________\n",
      "Layer (type)                 Output Shape              Param #   \n",
      "=================================================================\n",
      "lstm_37 (LSTM)               (None, 1, 180)            259920    \n",
      "_________________________________________________________________\n",
      "lstm_38 (LSTM)               (None, 1, 90)             97560     \n",
      "_________________________________________________________________\n",
      "lstm_39 (LSTM)               (None, 30)                14520     \n",
      "_________________________________________________________________\n",
      "dense_13 (Dense)             (None, 1)                 31        \n",
      "=================================================================\n",
      "Total params: 372,031\n",
      "Trainable params: 372,031\n",
      "Non-trainable params: 0\n",
      "_________________________________________________________________\n"
     ]
    }
   ],
   "source": [
    "print(np.array(X_train).shape)\n",
    "# reshape input to be 3D [samples, timesteps, features]\n",
    "train_X = np.array(X_train).reshape((np.array(X_train).shape[0], 1,np.array(X_train).shape[1]))\n",
    "test_X = np.array(X_test).reshape((np.array(X_test).shape[0], 1, np.array(X_test).shape[1]))\n",
    "\n",
    "\n",
    "Model = Sequential()\n",
    "Model.add(LSTM(180, return_sequences=True, input_shape=(train_X.shape[1], train_X.shape[2])))\n",
    "Model.add(LSTM(units=90, return_sequences=True))\n",
    "#model.add(BatchNormalization())\n",
    "Model.add(LSTM(units=30))\n",
    "Model.add(Dense(units=1, activation='relu'))\n",
    "\n",
    "Model.compile(loss='mae', optimizer='adam', metrics=['mse'])\n",
    "Model.summary()"
   ]
  },
  {
   "cell_type": "code",
   "execution_count": 70,
   "metadata": {
    "scrolled": true
   },
   "outputs": [
    {
     "name": "stdout",
     "output_type": "stream",
     "text": [
      "Train on 800 samples, validate on 200 samples\n",
      "Epoch 1/80\n",
      "800/800 [==============================] - 3s 3ms/step - loss: 0.3318 - mse: 0.1643 - val_loss: 0.1562 - val_mse: 0.0289\n",
      "Epoch 2/80\n",
      "800/800 [==============================] - 0s 473us/step - loss: 0.1060 - mse: 0.0170 - val_loss: 0.0778 - val_mse: 0.0078\n",
      "Epoch 3/80\n",
      "800/800 [==============================] - 0s 399us/step - loss: 0.0670 - mse: 0.0068 - val_loss: 0.0512 - val_mse: 0.0035\n",
      "Epoch 4/80\n",
      "800/800 [==============================] - 0s 335us/step - loss: 0.0349 - mse: 0.0020 - val_loss: 0.0296 - val_mse: 0.0015\n",
      "Epoch 5/80\n",
      "800/800 [==============================] - 0s 310us/step - loss: 0.0268 - mse: 0.0012 - val_loss: 0.0269 - val_mse: 0.0013\n",
      "Epoch 6/80\n",
      "800/800 [==============================] - 0s 351us/step - loss: 0.0254 - mse: 0.0012 - val_loss: 0.0277 - val_mse: 0.0013\n",
      "Epoch 7/80\n",
      "800/800 [==============================] - 0s 481us/step - loss: 0.0242 - mse: 0.0010 - val_loss: 0.0235 - val_mse: 9.7902e-04\n",
      "Epoch 8/80\n",
      "800/800 [==============================] - 1s 651us/step - loss: 0.0214 - mse: 8.5240e-04 - val_loss: 0.0211 - val_mse: 7.9788e-04\n",
      "Epoch 9/80\n",
      "800/800 [==============================] - 0s 500us/step - loss: 0.0203 - mse: 7.5696e-04 - val_loss: 0.0202 - val_mse: 6.7255e-04\n",
      "Epoch 10/80\n",
      "800/800 [==============================] - 0s 585us/step - loss: 0.0217 - mse: 8.3010e-04 - val_loss: 0.0201 - val_mse: 6.6049e-04\n",
      "Epoch 11/80\n",
      "800/800 [==============================] - 0s 574us/step - loss: 0.0222 - mse: 8.4846e-04 - val_loss: 0.0214 - val_mse: 7.2657e-04\n",
      "Epoch 12/80\n",
      "800/800 [==============================] - 0s 565us/step - loss: 0.0208 - mse: 7.4313e-04 - val_loss: 0.0171 - val_mse: 4.9992e-04\n",
      "Epoch 13/80\n",
      "800/800 [==============================] - 0s 394us/step - loss: 0.0200 - mse: 6.9377e-04 - val_loss: 0.0173 - val_mse: 5.3480e-04\n",
      "Epoch 14/80\n",
      "800/800 [==============================] - 0s 383us/step - loss: 0.0194 - mse: 6.5618e-04 - val_loss: 0.0164 - val_mse: 4.7310e-04\n",
      "Epoch 15/80\n",
      "800/800 [==============================] - 0s 401us/step - loss: 0.0179 - mse: 5.6771e-04 - val_loss: 0.0156 - val_mse: 4.1499e-04\n",
      "Epoch 16/80\n",
      "800/800 [==============================] - 0s 500us/step - loss: 0.0175 - mse: 5.5859e-04 - val_loss: 0.0152 - val_mse: 3.9496e-04\n",
      "Epoch 17/80\n",
      "800/800 [==============================] - 0s 621us/step - loss: 0.0154 - mse: 4.4459e-04 - val_loss: 0.0148 - val_mse: 3.9175e-04\n",
      "Epoch 18/80\n",
      "800/800 [==============================] - 0s 507us/step - loss: 0.0160 - mse: 4.5529e-04 - val_loss: 0.0212 - val_mse: 6.6190e-04\n",
      "Epoch 19/80\n",
      "800/800 [==============================] - 0s 531us/step - loss: 0.0201 - mse: 6.7325e-04 - val_loss: 0.0142 - val_mse: 3.4788e-04\n",
      "Epoch 20/80\n",
      "800/800 [==============================] - 0s 535us/step - loss: 0.0142 - mse: 3.7361e-04 - val_loss: 0.0188 - val_mse: 5.9445e-04\n",
      "Epoch 21/80\n",
      "800/800 [==============================] - 0s 491us/step - loss: 0.0154 - mse: 4.1493e-04 - val_loss: 0.0130 - val_mse: 2.9675e-04\n",
      "Epoch 22/80\n",
      "800/800 [==============================] - 0s 424us/step - loss: 0.0143 - mse: 3.7425e-04 - val_loss: 0.0203 - val_mse: 6.6800e-04\n",
      "Epoch 23/80\n",
      "800/800 [==============================] - 0s 328us/step - loss: 0.0149 - mse: 3.8960e-04 - val_loss: 0.0120 - val_mse: 2.5654e-04\n",
      "Epoch 24/80\n",
      "800/800 [==============================] - 0s 355us/step - loss: 0.0146 - mse: 3.7522e-04 - val_loss: 0.0146 - val_mse: 3.7236e-04\n",
      "Epoch 25/80\n",
      "800/800 [==============================] - 0s 420us/step - loss: 0.0195 - mse: 5.9679e-04 - val_loss: 0.0162 - val_mse: 4.1563e-04\n",
      "Epoch 26/80\n",
      "800/800 [==============================] - 0s 511us/step - loss: 0.0160 - mse: 4.3766e-04 - val_loss: 0.0145 - val_mse: 3.6328e-04\n",
      "Epoch 27/80\n",
      "800/800 [==============================] - 0s 578us/step - loss: 0.0133 - mse: 3.2518e-04 - val_loss: 0.0162 - val_mse: 4.6223e-04\n",
      "Epoch 28/80\n",
      "800/800 [==============================] - 0s 581us/step - loss: 0.0136 - mse: 3.3486e-04 - val_loss: 0.0114 - val_mse: 2.2897e-04\n",
      "Epoch 29/80\n",
      "800/800 [==============================] - 0s 552us/step - loss: 0.0132 - mse: 3.1754e-04 - val_loss: 0.0186 - val_mse: 5.8190e-04\n",
      "Epoch 30/80\n",
      "800/800 [==============================] - 0s 604us/step - loss: 0.0137 - mse: 3.3209e-04 - val_loss: 0.0111 - val_mse: 2.1480e-04\n",
      "Epoch 31/80\n",
      "800/800 [==============================] - 0s 476us/step - loss: 0.0174 - mse: 5.0820e-04 - val_loss: 0.0139 - val_mse: 2.9869e-04\n",
      "Epoch 32/80\n",
      "800/800 [==============================] - 0s 350us/step - loss: 0.0146 - mse: 3.6575e-04 - val_loss: 0.0236 - val_mse: 8.1041e-04\n",
      "Epoch 33/80\n",
      "800/800 [==============================] - 0s 292us/step - loss: 0.0148 - mse: 3.7721e-04 - val_loss: 0.0129 - val_mse: 2.6689e-04\n",
      "Epoch 34/80\n",
      "800/800 [==============================] - 0s 327us/step - loss: 0.0132 - mse: 3.1329e-04 - val_loss: 0.0126 - val_mse: 2.8401e-04\n",
      "Epoch 35/80\n",
      "800/800 [==============================] - 0s 396us/step - loss: 0.0135 - mse: 3.2012e-04 - val_loss: 0.0120 - val_mse: 2.5172e-04\n",
      "Epoch 36/80\n",
      "800/800 [==============================] - 0s 441us/step - loss: 0.0113 - mse: 2.3840e-04 - val_loss: 0.0110 - val_mse: 2.1765e-04\n",
      "Epoch 37/80\n",
      "800/800 [==============================] - 0s 483us/step - loss: 0.0128 - mse: 2.9318e-04 - val_loss: 0.0108 - val_mse: 2.0733e-04\n",
      "Epoch 38/80\n",
      "800/800 [==============================] - 0s 534us/step - loss: 0.0132 - mse: 3.0216e-04 - val_loss: 0.0162 - val_mse: 4.3074e-04\n",
      "Epoch 39/80\n",
      "800/800 [==============================] - 0s 426us/step - loss: 0.0121 - mse: 2.6300e-04 - val_loss: 0.0103 - val_mse: 1.8754e-04\n",
      "Epoch 40/80\n",
      "800/800 [==============================] - 0s 365us/step - loss: 0.0157 - mse: 4.2006e-04 - val_loss: 0.0209 - val_mse: 5.7646e-04\n",
      "Epoch 41/80\n",
      "800/800 [==============================] - 0s 366us/step - loss: 0.0155 - mse: 4.1298e-04 - val_loss: 0.0122 - val_mse: 2.6633e-04\n",
      "Epoch 42/80\n",
      "800/800 [==============================] - 0s 311us/step - loss: 0.0127 - mse: 2.8090e-04 - val_loss: 0.0101 - val_mse: 1.7498e-04\n",
      "Epoch 43/80\n",
      "800/800 [==============================] - 0s 302us/step - loss: 0.0113 - mse: 2.3241e-04 - val_loss: 0.0110 - val_mse: 1.9525e-04\n",
      "Epoch 44/80\n",
      "800/800 [==============================] - 0s 362us/step - loss: 0.0106 - mse: 2.0645e-04 - val_loss: 0.0107 - val_mse: 1.8404e-04\n",
      "Epoch 45/80\n",
      "800/800 [==============================] - 0s 305us/step - loss: 0.0164 - mse: 4.3484e-04 - val_loss: 0.0178 - val_mse: 5.1308e-04\n",
      "Epoch 46/80\n",
      "800/800 [==============================] - 0s 305us/step - loss: 0.0121 - mse: 2.7156e-04 - val_loss: 0.0106 - val_mse: 1.8012e-04\n",
      "Epoch 47/80\n",
      "800/800 [==============================] - 0s 393us/step - loss: 0.0111 - mse: 2.2464e-04 - val_loss: 0.0099 - val_mse: 1.6992e-04\n",
      "Epoch 48/80\n",
      "800/800 [==============================] - 0s 487us/step - loss: 0.0121 - mse: 2.6351e-04 - val_loss: 0.0114 - val_mse: 2.2863e-04\n",
      "Epoch 49/80\n",
      "800/800 [==============================] - 0s 465us/step - loss: 0.0172 - mse: 4.6523e-04 - val_loss: 0.0136 - val_mse: 2.7401e-04\n",
      "Epoch 50/80\n",
      "800/800 [==============================] - 0s 544us/step - loss: 0.0160 - mse: 4.1304e-04 - val_loss: 0.0128 - val_mse: 2.4463e-04\n",
      "Epoch 51/80\n",
      "800/800 [==============================] - 0s 584us/step - loss: 0.0147 - mse: 3.5605e-04 - val_loss: 0.0210 - val_mse: 6.5261e-04\n",
      "Epoch 52/80\n",
      "800/800 [==============================] - 0s 554us/step - loss: 0.0134 - mse: 3.0919e-04 - val_loss: 0.0099 - val_mse: 1.6436e-04\n",
      "Epoch 53/80\n",
      "800/800 [==============================] - 0s 451us/step - loss: 0.0113 - mse: 2.3812e-04 - val_loss: 0.0145 - val_mse: 3.5823e-04\n",
      "Epoch 54/80\n",
      "800/800 [==============================] - 0s 280us/step - loss: 0.0113 - mse: 2.3161e-04 - val_loss: 0.0095 - val_mse: 1.6157e-04\n",
      "Epoch 55/80\n",
      "800/800 [==============================] - 0s 355us/step - loss: 0.0148 - mse: 3.5228e-04 - val_loss: 0.0200 - val_mse: 5.3069e-04\n",
      "Epoch 56/80\n",
      "800/800 [==============================] - 0s 544us/step - loss: 0.0174 - mse: 4.8116e-04 - val_loss: 0.0118 - val_mse: 2.1780e-04\n",
      "Epoch 57/80\n",
      "800/800 [==============================] - 0s 535us/step - loss: 0.0120 - mse: 2.5943e-04 - val_loss: 0.0119 - val_mse: 2.5798e-04\n",
      "Epoch 58/80\n",
      "800/800 [==============================] - 0s 513us/step - loss: 0.0111 - mse: 2.2229e-04 - val_loss: 0.0133 - val_mse: 2.9967e-04\n",
      "Epoch 59/80\n",
      "800/800 [==============================] - 0s 450us/step - loss: 0.0114 - mse: 2.2532e-04 - val_loss: 0.0123 - val_mse: 2.6448e-04\n",
      "Epoch 60/80\n",
      "800/800 [==============================] - 0s 332us/step - loss: 0.0104 - mse: 1.9634e-04 - val_loss: 0.0096 - val_mse: 1.6837e-04\n",
      "Epoch 61/80\n",
      "800/800 [==============================] - 0s 277us/step - loss: 0.0113 - mse: 2.2424e-04 - val_loss: 0.0097 - val_mse: 1.6999e-04\n",
      "Epoch 62/80\n",
      "800/800 [==============================] - 0s 256us/step - loss: 0.0108 - mse: 2.0881e-04 - val_loss: 0.0090 - val_mse: 1.4628e-04\n",
      "Epoch 63/80\n",
      "800/800 [==============================] - 0s 321us/step - loss: 0.0106 - mse: 2.0216e-04 - val_loss: 0.0093 - val_mse: 1.5695e-04\n",
      "Epoch 64/80\n",
      "800/800 [==============================] - 0s 256us/step - loss: 0.0112 - mse: 2.1823e-04 - val_loss: 0.0101 - val_mse: 1.8428e-04\n",
      "Epoch 65/80\n",
      "800/800 [==============================] - 0s 276us/step - loss: 0.0121 - mse: 2.4934e-04 - val_loss: 0.0088 - val_mse: 1.4121e-04\n",
      "Epoch 66/80\n",
      "800/800 [==============================] - 0s 332us/step - loss: 0.0096 - mse: 1.6948e-04 - val_loss: 0.0098 - val_mse: 1.4680e-04\n",
      "Epoch 67/80\n",
      "800/800 [==============================] - 0s 231us/step - loss: 0.0163 - mse: 4.0160e-04 - val_loss: 0.0214 - val_mse: 6.9356e-04\n",
      "Epoch 68/80\n",
      "800/800 [==============================] - 0s 326us/step - loss: 0.0189 - mse: 5.4755e-04 - val_loss: 0.0175 - val_mse: 4.0583e-04\n",
      "Epoch 69/80\n",
      "800/800 [==============================] - 0s 276us/step - loss: 0.0163 - mse: 4.2040e-04 - val_loss: 0.0101 - val_mse: 1.6406e-04\n",
      "Epoch 70/80\n",
      "800/800 [==============================] - 0s 247us/step - loss: 0.0131 - mse: 3.0236e-04 - val_loss: 0.0128 - val_mse: 2.9684e-04\n",
      "Epoch 71/80\n",
      "800/800 [==============================] - 0s 332us/step - loss: 0.0111 - mse: 2.1305e-04 - val_loss: 0.0090 - val_mse: 1.3904e-04\n",
      "Epoch 72/80\n",
      "800/800 [==============================] - 1s 645us/step - loss: 0.0106 - mse: 1.9975e-04 - val_loss: 0.0102 - val_mse: 1.8821e-04\n",
      "Epoch 73/80\n",
      "800/800 [==============================] - 0s 550us/step - loss: 0.0149 - mse: 3.4017e-04 - val_loss: 0.0117 - val_mse: 2.0659e-04\n",
      "Epoch 74/80\n",
      "800/800 [==============================] - 0s 510us/step - loss: 0.0098 - mse: 1.7563e-04 - val_loss: 0.0092 - val_mse: 1.3809e-04\n",
      "Epoch 75/80\n",
      "800/800 [==============================] - 0s 541us/step - loss: 0.0096 - mse: 1.6744e-04 - val_loss: 0.0084 - val_mse: 1.2649e-04\n",
      "Epoch 76/80\n",
      "800/800 [==============================] - 0s 550us/step - loss: 0.0132 - mse: 2.9393e-04 - val_loss: 0.0129 - val_mse: 2.4078e-04\n",
      "Epoch 77/80\n",
      "800/800 [==============================] - 0s 302us/step - loss: 0.0199 - mse: 6.0953e-04 - val_loss: 0.0123 - val_mse: 2.1736e-04\n",
      "Epoch 78/80\n",
      "800/800 [==============================] - 0s 450us/step - loss: 0.0113 - mse: 2.2710e-04 - val_loss: 0.0136 - val_mse: 3.2345e-04\n",
      "Epoch 79/80\n",
      "800/800 [==============================] - 0s 336us/step - loss: 0.0109 - mse: 2.0907e-04 - val_loss: 0.0157 - val_mse: 3.8085e-04\n",
      "Epoch 80/80\n",
      "800/800 [==============================] - 0s 339us/step - loss: 0.0124 - mse: 2.5528e-04 - val_loss: 0.0083 - val_mse: 1.1638e-04\n"
     ]
    },
    {
     "data": {
      "text/plain": [
       "<keras.callbacks.callbacks.History at 0x1a393a274c8>"
      ]
     },
     "execution_count": 70,
     "metadata": {},
     "output_type": "execute_result"
    }
   ],
   "source": [
    "Model.fit(train_X,np.array(y_train), epochs=80, batch_size=64,shuffle = False,validation_split=0.2)"
   ]
  },
  {
   "cell_type": "code",
   "execution_count": 71,
   "metadata": {},
   "outputs": [
    {
     "name": "stdout",
     "output_type": "stream",
     "text": [
      "0.0001695497\n"
     ]
    },
    {
     "data": {
      "image/png": "[encoded data removed]",
      "text/plain": [
       "<Figure size 432x288 with 1 Axes>"
      ]
     },
     "metadata": {
      "needs_background": "light"
     },
     "output_type": "display_data"
    },
    {
     "name": "stdout",
     "output_type": "stream",
     "text": [
      "534 534\n",
      "0.9288389513108615\n"
     ]
    }
   ],
   "source": [
    "Pred = Model.predict(test_X)\n",
    "print(mean_squared_error(y_test, Pred))\n",
    "a=0\n",
    "b=len(Pred)\n",
    "plt.plot(range(b),Pred[a:a+b], color = 'red')\n",
    "plt.plot(range(b),y_test[a:a+b],color='blue')\n",
    "plt.xlabel('Days')\n",
    "plt.ylabel('Value')\n",
    "plt.legend('PA')\n",
    "plt.show()\n",
    "\n",
    "#y_test = pred[1000:]\n",
    "print(len(y_test[:-10]), len(Pred[10:]))\n",
    "\n",
    "actual = y_test[10:]\n",
    "predicted = Pred[10:]\n",
    "p = []\n",
    "a = []\n",
    "for i in range(len(Pred[:-10])):\n",
    "    if predicted[i] < y_test[i]:\n",
    "        p.append(0)\n",
    "    else:\n",
    "        p.append(1)\n",
    "    \n",
    "    if actual[i] < y_test[i]:\n",
    "        a.append(0)\n",
    "    else:\n",
    "        a.append(1)\n",
    "        \n",
    "score = 0\n",
    "for i in range(len(a)):\n",
    "    if a[i] == p[i]:\n",
    "        score += 1\n",
    "print(score/len(a))"
   ]
  },
  {
   "cell_type": "code",
   "execution_count": 26,
   "metadata": {},
   "outputs": [],
   "source": [
    "#model.save('Good10day.h5')"
   ]
  },
  {
   "cell_type": "code",
   "execution_count": 72,
   "metadata": {},
   "outputs": [
    {
     "name": "stdout",
     "output_type": "stream",
     "text": [
      "0.0024112507\n"
     ]
    },
    {
     "data": {
      "image/png": "[encoded data removed]",
      "text/plain": [
       "<Figure size 432x288 with 1 Axes>"
      ]
     },
     "metadata": {
      "needs_background": "light"
     },
     "output_type": "display_data"
    }
   ],
   "source": [
    "#Same as day before\n",
    "delay = 10\n",
    "\n",
    "y_test = pred[1000 - delay:]\n",
    "\n",
    "Pred = []\n",
    "for i in range(len(y_test)-delay):\n",
    "    Pred.append(y_test[i])\n",
    "\n",
    "print(mean_squared_error(y_test[delay:], Pred))\n",
    "\n",
    "plt.plot(range(len(Pred)),Pred, color = 'red')\n",
    "plt.plot(range(len(Pred)),y_test[delay:],color='blue')\n",
    "plt.xlabel('Days')\n",
    "plt.ylabel('Value')\n",
    "plt.legend('PA')\n",
    "plt.show()\n"
   ]
  },
  {
   "cell_type": "code",
   "execution_count": 73,
   "metadata": {},
   "outputs": [
    {
     "name": "stdout",
     "output_type": "stream",
     "text": [
      "Model: \"sequential_14\"\n",
      "_________________________________________________________________\n",
      "Layer (type)                 Output Shape              Param #   \n",
      "=================================================================\n",
      "lstm_40 (LSTM)               (None, 1, 180)            259920    \n",
      "_________________________________________________________________\n",
      "batch_normalization_9 (Batch (None, 1, 180)            720       \n",
      "_________________________________________________________________\n",
      "dropout_5 (Dropout)          (None, 1, 180)            0         \n",
      "_________________________________________________________________\n",
      "lstm_41 (LSTM)               (None, 1, 90)             97560     \n",
      "_________________________________________________________________\n",
      "lstm_42 (LSTM)               (None, 30)                14520     \n",
      "_________________________________________________________________\n",
      "dense_14 (Dense)             (None, 1)                 31        \n",
      "=================================================================\n",
      "Total params: 372,751\n",
      "Trainable params: 372,391\n",
      "Non-trainable params: 360\n",
      "_________________________________________________________________\n"
     ]
    }
   ],
   "source": [
    "model = Sequential()\n",
    "model.add(LSTM(180, return_sequences=True, input_shape=(train_X.shape[1], train_X.shape[2])))\n",
    "model.add(BatchNormalization())\n",
    "model.add(Dropout(0.2))\n",
    "model.add(LSTM(units=90, return_sequences=True))\n",
    "#model.add(BatchNormalization())\n",
    "model.add(LSTM(units=30))\n",
    "model.add(Dense(1, activation='relu'))\n",
    "\n",
    "model.compile(loss='mae', optimizer='adam', metrics=['accuracy'])\n",
    "model.summary()"
   ]
  },
  {
   "cell_type": "code",
   "execution_count": 48,
   "metadata": {
    "scrolled": true
   },
   "outputs": [
    {
     "name": "stdout",
     "output_type": "stream",
     "text": [
      "Train on 800 samples, validate on 200 samples\n",
      "Epoch 1/40\n",
      "800/800 [==============================] - 2s 2ms/step - loss: 0.4796 - accuracy: 0.5175 - val_loss: 0.5062 - val_accuracy: 0.4900\n",
      "Epoch 2/40\n",
      "800/800 [==============================] - 0s 360us/step - loss: 0.4646 - accuracy: 0.5275 - val_loss: 0.5008 - val_accuracy: 0.4900\n",
      "Epoch 3/40\n",
      "800/800 [==============================] - 0s 408us/step - loss: 0.4543 - accuracy: 0.5475 - val_loss: 0.4937 - val_accuracy: 0.4950\n",
      "Epoch 4/40\n",
      "800/800 [==============================] - 0s 366us/step - loss: 0.4544 - accuracy: 0.5562 - val_loss: 0.4934 - val_accuracy: 0.4900\n",
      "Epoch 5/40\n",
      "800/800 [==============================] - 0s 312us/step - loss: 0.4472 - accuracy: 0.5575 - val_loss: 0.4907 - val_accuracy: 0.5200\n",
      "Epoch 6/40\n",
      "800/800 [==============================] - 0s 303us/step - loss: 0.4522 - accuracy: 0.5587 - val_loss: 0.4938 - val_accuracy: 0.4900\n",
      "Epoch 7/40\n",
      "800/800 [==============================] - 0s 292us/step - loss: 0.4454 - accuracy: 0.5562 - val_loss: 0.4878 - val_accuracy: 0.4850\n",
      "Epoch 8/40\n",
      "800/800 [==============================] - 0s 303us/step - loss: 0.4451 - accuracy: 0.5575 - val_loss: 0.4895 - val_accuracy: 0.4950\n",
      "Epoch 9/40\n",
      "800/800 [==============================] - 0s 287us/step - loss: 0.4446 - accuracy: 0.5600 - val_loss: 0.4952 - val_accuracy: 0.4900\n",
      "Epoch 10/40\n",
      "800/800 [==============================] - 0s 274us/step - loss: 0.4427 - accuracy: 0.5600 - val_loss: 0.4995 - val_accuracy: 0.4900\n",
      "Epoch 11/40\n",
      "800/800 [==============================] - 0s 274us/step - loss: 0.4461 - accuracy: 0.5625 - val_loss: 0.5099 - val_accuracy: 0.4900\n",
      "Epoch 12/40\n",
      "800/800 [==============================] - 0s 293us/step - loss: 0.4428 - accuracy: 0.5600 - val_loss: 0.5101 - val_accuracy: 0.4900\n",
      "Epoch 13/40\n",
      "800/800 [==============================] - 0s 298us/step - loss: 0.4398 - accuracy: 0.5725 - val_loss: 0.5100 - val_accuracy: 0.4900\n",
      "Epoch 14/40\n",
      "800/800 [==============================] - 0s 299us/step - loss: 0.4341 - accuracy: 0.5788 - val_loss: 0.5100 - val_accuracy: 0.4900\n",
      "Epoch 15/40\n",
      "800/800 [==============================] - 0s 284us/step - loss: 0.4296 - accuracy: 0.5775 - val_loss: 0.5091 - val_accuracy: 0.4900\n",
      "Epoch 16/40\n",
      "800/800 [==============================] - 0s 275us/step - loss: 0.4280 - accuracy: 0.5838 - val_loss: 0.5100 - val_accuracy: 0.4900\n",
      "Epoch 17/40\n",
      "800/800 [==============================] - 0s 290us/step - loss: 0.4268 - accuracy: 0.5900 - val_loss: 0.5101 - val_accuracy: 0.4900\n",
      "Epoch 18/40\n",
      "800/800 [==============================] - 0s 290us/step - loss: 0.4281 - accuracy: 0.5875 - val_loss: 0.5100 - val_accuracy: 0.4900\n",
      "Epoch 19/40\n",
      "800/800 [==============================] - 0s 290us/step - loss: 0.4262 - accuracy: 0.5800 - val_loss: 0.5089 - val_accuracy: 0.4900\n",
      "Epoch 20/40\n",
      "800/800 [==============================] - 0s 297us/step - loss: 0.4227 - accuracy: 0.5863 - val_loss: 0.5080 - val_accuracy: 0.4900\n",
      "Epoch 21/40\n",
      "800/800 [==============================] - 0s 280us/step - loss: 0.4212 - accuracy: 0.5863 - val_loss: 0.5090 - val_accuracy: 0.5000\n",
      "Epoch 22/40\n",
      "800/800 [==============================] - 0s 301us/step - loss: 0.4248 - accuracy: 0.5800 - val_loss: 0.5105 - val_accuracy: 0.4900\n",
      "Epoch 23/40\n",
      "800/800 [==============================] - 0s 302us/step - loss: 0.4216 - accuracy: 0.5888 - val_loss: 0.5075 - val_accuracy: 0.4850\n",
      "Epoch 24/40\n",
      "800/800 [==============================] - 0s 288us/step - loss: 0.4247 - accuracy: 0.5813 - val_loss: 0.5102 - val_accuracy: 0.4900\n",
      "Epoch 25/40\n",
      "800/800 [==============================] - 0s 362us/step - loss: 0.4193 - accuracy: 0.5825 - val_loss: 0.5082 - val_accuracy: 0.4900\n",
      "Epoch 26/40\n",
      "800/800 [==============================] - 0s 421us/step - loss: 0.4163 - accuracy: 0.5913 - val_loss: 0.5100 - val_accuracy: 0.4900\n",
      "Epoch 27/40\n",
      "800/800 [==============================] - 0s 375us/step - loss: 0.4191 - accuracy: 0.5900 - val_loss: 0.5094 - val_accuracy: 0.4950\n",
      "Epoch 28/40\n",
      "800/800 [==============================] - 0s 417us/step - loss: 0.4215 - accuracy: 0.5863 - val_loss: 0.5052 - val_accuracy: 0.4800\n",
      "Epoch 29/40\n",
      "800/800 [==============================] - 0s 428us/step - loss: 0.4207 - accuracy: 0.5850 - val_loss: 0.5091 - val_accuracy: 0.5050\n",
      "Epoch 30/40\n",
      "800/800 [==============================] - 0s 387us/step - loss: 0.4165 - accuracy: 0.5925 - val_loss: 0.5092 - val_accuracy: 0.4900\n",
      "Epoch 31/40\n",
      "800/800 [==============================] - 0s 298us/step - loss: 0.4223 - accuracy: 0.5800 - val_loss: 0.5089 - val_accuracy: 0.5050\n",
      "Epoch 32/40\n",
      "800/800 [==============================] - 0s 282us/step - loss: 0.4219 - accuracy: 0.5888 - val_loss: 0.5016 - val_accuracy: 0.4850\n",
      "Epoch 33/40\n",
      "800/800 [==============================] - 0s 342us/step - loss: 0.4145 - accuracy: 0.5950 - val_loss: 0.5103 - val_accuracy: 0.4900\n",
      "Epoch 34/40\n",
      "800/800 [==============================] - 0s 309us/step - loss: 0.4126 - accuracy: 0.5850 - val_loss: 0.5106 - val_accuracy: 0.4900\n",
      "Epoch 35/40\n",
      "800/800 [==============================] - 0s 295us/step - loss: 0.4194 - accuracy: 0.5875 - val_loss: 0.4713 - val_accuracy: 0.5400\n",
      "Epoch 36/40\n",
      "800/800 [==============================] - 0s 333us/step - loss: 0.4245 - accuracy: 0.5825 - val_loss: 0.5044 - val_accuracy: 0.4900\n",
      "Epoch 37/40\n",
      "800/800 [==============================] - 0s 343us/step - loss: 0.4173 - accuracy: 0.5888 - val_loss: 0.4771 - val_accuracy: 0.5450\n",
      "Epoch 38/40\n",
      "800/800 [==============================] - 0s 332us/step - loss: 0.4249 - accuracy: 0.5850 - val_loss: 0.5104 - val_accuracy: 0.4900\n",
      "Epoch 39/40\n",
      "800/800 [==============================] - 0s 319us/step - loss: 0.4133 - accuracy: 0.5950 - val_loss: 0.5105 - val_accuracy: 0.4900\n",
      "Epoch 40/40\n",
      "800/800 [==============================] - 0s 290us/step - loss: 0.4150 - accuracy: 0.5913 - val_loss: 0.5100 - val_accuracy: 0.4900\n"
     ]
    },
    {
     "data": {
      "text/plain": [
       "<keras.callbacks.callbacks.History at 0x1a3b144bd48>"
      ]
     },
     "execution_count": 48,
     "metadata": {},
     "output_type": "execute_result"
    }
   ],
   "source": [
    "y_train = binary_pred[:1000]\n",
    "y_test = binary_pred[1000:]\n",
    "\n",
    "model.fit(train_X,np.array(y_train), epochs=40, batch_size=64,shuffle = False,validation_split = 0.2)"
   ]
  },
  {
   "cell_type": "code",
   "execution_count": 49,
   "metadata": {},
   "outputs": [
    {
     "name": "stdout",
     "output_type": "stream",
     "text": [
      "544/544 [==============================] - 0s 139us/step\n",
      "Accuracy :  0.529411792755127\n"
     ]
    }
   ],
   "source": [
    "\n",
    "print('Accuracy : ', model.evaluate(np.array(test_X),np.array(y_test))[1])"
   ]
  },
  {
   "cell_type": "markdown",
   "metadata": {},
   "source": [
    "To test versatility the models are tested on different company without being retrained."
   ]
  },
  {
   "cell_type": "code",
   "execution_count": 52,
   "metadata": {},
   "outputs": [
    {
     "name": "stdout",
     "output_type": "stream",
     "text": [
      "log reg :  0.905440414507772\n",
      "SVM :  0.7875647668393783\n",
      "SVR :  -0.12594893378354133\n",
      "XGBoost :  0.7778497409326425\n",
      "1544/1544 [==============================] - 0s 119us/step\n",
      "Accuracy LSTM:  0.5207253694534302\n",
      "Confusion of log reg\n",
      "[[699 106]\n",
      " [ 40 699]]\n"
     ]
    }
   ],
   "source": [
    "\n",
    "df = pd.read_csv('csv/TSCO.L.csv')\n",
    "\n",
    "# Sort DataFrame by date\n",
    "df = df.sort_values('Date')\n",
    "df.set_index('Date', inplace=True)\n",
    "\n",
    "#Add a predicting column\n",
    "df['pred'] = df.Close.shift(-1)\n",
    "\n",
    "df = df.dropna()\n",
    "\n",
    "#Scale the data frame\n",
    "\n",
    "values = df.values\n",
    "values = values.astype('float32')\n",
    "\n",
    "\n",
    "from sklearn.preprocessing import MinMaxScaler\n",
    "scaler = MinMaxScaler(feature_range=(0,1))\n",
    "\n",
    "scaled = scaler.fit_transform(values)\n",
    "\n",
    "scaled = pd.DataFrame(scaled)\n",
    "\n",
    "scaled.columns = [\"High\", \"Low\", \"Open\", \"Close\",'Volume','Adj Close','pred']\n",
    "\n",
    "\n",
    "s = scaled.drop(['pred'],axis=1)\n",
    "s.head(10)\n",
    "\n",
    "data = s.values\n",
    "data, binary_pred, pred  = window(data,size = 30,delay=10)\n",
    "\n",
    "\n",
    "X_train = data[:1000]\n",
    "X_test = data[:]\n",
    "y_train = binary_pred[:1000]\n",
    "y_test = binary_pred[:]\n",
    "#= train_test_split(data, binary_pred, test_size=0.2, random_state=42)\n",
    "\n",
    "print('log reg : ', clf.score(X_test, y_test))\n",
    "print('SVM : ', Svm.score(X_test, y_test))\n",
    "print('SVR : ', Svr.score(X_test, y_test))\n",
    "print('XGBoost : ', mod.score(np.array(X_test), np.array(y_test)))\n",
    "\n",
    "        \n",
    "test_X = np.array(X_test).reshape((np.array(X_test).shape[0], 1, np.array(X_test).shape[1]))\n",
    "        \n",
    "print('Accuracy LSTM: ', model.evaluate(np.array(test_X),np.array(y_test))[1])\n",
    "from sklearn.metrics import confusion_matrix\n",
    "\n",
    "print('Confusion of log reg')\n",
    "print(confusion_matrix(np.array(y_test),clf.predict(X_test)))\n"
   ]
  },
  {
   "cell_type": "code",
   "execution_count": 53,
   "metadata": {},
   "outputs": [
    {
     "name": "stdout",
     "output_type": "stream",
     "text": [
      "Confusion Matrix\n",
      "[[802   3]\n",
      " [737   2]]\n",
      "Classification Report\n",
      "Accuracy :  0.5207253886010362\n",
      "              precision    recall  f1-score   support\n",
      "\n",
      "    Increase       0.52      1.00      0.68       805\n",
      "    decrease       0.40      0.00      0.01       739\n",
      "\n",
      "    accuracy                           0.52      1544\n",
      "   macro avg       0.46      0.50      0.34      1544\n",
      "weighted avg       0.46      0.52      0.36      1544\n",
      "\n"
     ]
    }
   ],
   "source": [
    "y_pred = model.predict(np.array(test_X))\n",
    "\n",
    "y = []\n",
    "for i in range(len(y_pred)):\n",
    "    if y_pred[i][0] < 0.5:\n",
    "        y.append(0)\n",
    "    else:\n",
    "        y.append(1)\n",
    "        \n",
    "print('Confusion Matrix')\n",
    "print(confusion_matrix(y_test, y))\n",
    "print('Classification Report')\n",
    "\n",
    "a=0\n",
    "for i in range(len(y)):\n",
    "    if y[i] == y_test[i]:\n",
    "        a+=1\n",
    "print('Accuracy : ', a/len(y_pred))\n",
    "               \n",
    "target_names = ['Increase', 'decrease']\n",
    "print(classification_report(y_test, y, target_names=target_names))"
   ]
  },
  {
   "cell_type": "code",
   "execution_count": 54,
   "metadata": {},
   "outputs": [
    {
     "name": "stdout",
     "output_type": "stream",
     "text": [
      "0.00829726526614905\n"
     ]
    },
    {
     "data": {
      "image/png": "[encoded data removed]",
      "text/plain": [
       "<Figure size 432x288 with 1 Axes>"
      ]
     },
     "metadata": {
      "needs_background": "light"
     },
     "output_type": "display_data"
    }
   ],
   "source": [
    "\n",
    "\n",
    "X_test = data[:]\n",
    "y_test = pred[:]\n",
    "\n",
    "\n",
    "Pred = Svr.predict(X_test)\n",
    "print(mean_squared_error(y_test, Pred))\n",
    "\n",
    "plt.plot(range(len(Pred)),Pred, color = 'red')\n",
    "plt.plot(range(len(Pred)),pred,color='blue')\n",
    "plt.xlabel('Days')\n",
    "plt.ylabel('Value')\n",
    "plt.title('IMB')\n",
    "plt.legend('PA')\n",
    "plt.show()"
   ]
  },
  {
   "cell_type": "code",
   "execution_count": 56,
   "metadata": {},
   "outputs": [
    {
     "name": "stdout",
     "output_type": "stream",
     "text": [
      "0.00042694382\n"
     ]
    },
    {
     "data": {
      "image/png": "[encoded data removed]",
      "text/plain": [
       "<Figure size 432x288 with 1 Axes>"
      ]
     },
     "metadata": {
      "needs_background": "light"
     },
     "output_type": "display_data"
    },
    {
     "name": "stdout",
     "output_type": "stream",
     "text": [
      "0.8676662320730117\n"
     ]
    }
   ],
   "source": [
    "test_X = np.array(X_test).reshape((np.array(X_test).shape[0], 1, np.array(X_test).shape[1]))\n",
    "\n",
    "Pred = Model.predict(test_X)\n",
    "print(mean_squared_error(y_test, Pred))\n",
    "a=0\n",
    "b=len(Pred)\n",
    "plt.plot(range(b),Pred[a:a+b], color = 'red')\n",
    "plt.plot(range(b),y_test[a:a+b],color='blue')\n",
    "plt.xlabel('Days')\n",
    "plt.ylabel('Value')\n",
    "plt.legend('PA')\n",
    "plt.title('IMB')\n",
    "plt.show()\n",
    "\n",
    "actual = y_test[10:]\n",
    "predicted = Pred[10:]\n",
    "p = []\n",
    "a = []\n",
    "for i in range(len(Pred[:-10])):\n",
    "    if predicted[i] < y_test[i]:\n",
    "        p.append(0)\n",
    "    else:\n",
    "        p.append(1)\n",
    "    \n",
    "    if actual[i] < y_test[i]:\n",
    "        a.append(0)\n",
    "    else:\n",
    "        a.append(1)\n",
    "        \n",
    "score = 0\n",
    "for i in range(len(a)):\n",
    "    if a[i] == p[i]:\n",
    "        score += 1\n",
    "print(score/len(a))"
   ]
  },
  {
   "cell_type": "code",
   "execution_count": 105,
   "metadata": {},
   "outputs": [
    {
     "data": {
      "text/plain": [
       "1572.7688148720329"
      ]
     },
     "execution_count": 105,
     "metadata": {},
     "output_type": "execute_result"
    }
   ],
   "source": []
  },
  {
   "cell_type": "code",
   "execution_count": null,
   "metadata": {},
   "outputs": [],
   "source": []
  }
 ],
 "metadata": {
  "kernelspec": {
   "display_name": "Python 3",
   "language": "python",
   "name": "python3"
  },
  "language_info": {
   "codemirror_mode": {
    "name": "ipython",
    "version": 3
   },
   "file_extension": ".py",
   "mimetype": "text/x-python",
   "name": "python",
   "nbconvert_exporter": "python",
   "pygments_lexer": "ipython3",
   "version": "3.7.6"
  }
 },
 "nbformat": 4,
 "nbformat_minor": 4
}
